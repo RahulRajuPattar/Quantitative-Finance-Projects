{
 "cells": [
  {
   "cell_type": "markdown",
   "metadata": {},
   "source": [
    "***Assignment 1***\n",
    "----\n",
    "\n",
    "***Submitted by Rahul Raju Pattar***\n",
    "\n",
    "\n",
    "*Write a Function for calculating the Parametric VaR of DLF (40%), NTPC (20%)\n",
    "And HDFC Bank (40%). Take historical data for last 500 days before 1st Oct,\n",
    "2019 and a 99% VaR confidence level.\n",
    "The date chosen is for previous year as we deliberately wanted not to include\n",
    "market data from January 2020.*\n",
    "\n",
    "***Discussion:***\n",
    "\n",
    "**The main assumptions in calculating parametric VaR are**:\n",
    "\n",
    "**1.** Asset returns are normally distributed.\\\n",
    "**2.** Asset returns are assumed to be serially independent in that no prior return should influence the current return.\n",
    "\n",
    "**In the following, the main procedure for the calculating parametric VaR of the portfolio consisting of the given stocks is outlined:**\n",
    "\n",
    "**Step 1.** Download the historical data from Yahoo finance and calculate the mean and standard of the portfolio. \\\n",
    "**Step 2.** We use the calculated standard deviation to compute a standard normal z score.\\\n",
    "**Step 3.** We determine our risk position with a degree of confidence (99%) from the standard normal table.\n",
    "\n",
    "\n"
   ]
  },
  {
   "cell_type": "code",
   "execution_count": 2,
   "metadata": {},
   "outputs": [],
   "source": [
    "import yfinance as yf\n",
    "import numpy as np\n",
    "import pandas as pd\n",
    "import matplotlib.pyplot as plt\n",
    "import datetime as dt\n",
    "import scipy.stats as stats"
   ]
  },
  {
   "cell_type": "markdown",
   "metadata": {},
   "source": [
    "***STEP 1***\n",
    "-----"
   ]
  },
  {
   "cell_type": "code",
   "execution_count": 3,
   "metadata": {},
   "outputs": [],
   "source": [
    "stocks_list = ['DLF.NS','NTPC.NS','HDFCBANK.NS']\n",
    "weights = [0.4,0.2,0.4]"
   ]
  },
  {
   "cell_type": "code",
   "execution_count": 4,
   "metadata": {},
   "outputs": [
    {
     "name": "stdout",
     "output_type": "stream",
     "text": [
      "2018-05-19 00:00:00\n"
     ]
    }
   ],
   "source": [
    "end_date        = dt.datetime(2019,10,1)\n",
    "time_difference = dt.timedelta(days = 500)\n",
    "start_date      = end_date - time_difference\n",
    "print(start_date)"
   ]
  },
  {
   "cell_type": "code",
   "execution_count": 4,
   "metadata": {},
   "outputs": [],
   "source": [
    "confidence = 99"
   ]
  },
  {
   "cell_type": "code",
   "execution_count": 5,
   "metadata": {},
   "outputs": [],
   "source": [
    "#Function to calculate parametric VaR for a portfolio of given stocks.\n",
    "\n",
    "def Parametric_VaR(stocks_list, start_date, end_date, weights, confidence):\n",
    "    \n",
    "    #Download the Stock prices from yfinance and remove the missing rows\n",
    "    full_data = yf.download(stocks_list, start = start_date, end = end_date)\n",
    "    data = full_data.copy(deep=True)\n",
    "    data = data['Adj Close'].dropna()\n",
    "    \n",
    "    #Calculate the daily returns for each of stocks\n",
    "    returns = np.log(data).diff()\n",
    "    returns = returns[stocks_list]\n",
    "    returns = returns.dropna()\n",
    "    \n",
    "    #Calculate the daily portfolio returns\n",
    "    Portfolio_Returns = np.sum(weights*returns, axis = 1)\n",
    "    plt.hist(Portfolio_Returns)\n",
    "    plt.hist(Portfolio_Returns*1_000_000)\n",
    "    plt.xlabel('Portfolio Returns')\n",
    "    plt.ylabel('Frequency')\n",
    "    \n",
    "    #Calculate the mean and standard deviation of the daily portfolio returns\n",
    "    mean_returns    = Portfolio_Returns.mean()\n",
    "    std_dev = Portfolio_Returns.std()\n",
    "    \n",
    "    #Calculate the parametric Var\n",
    "    Param_VaR = mean_returns - stats.norm.ppf(confidence/100) * std_dev\n",
    "    \n",
    "    return Param_VaR\n",
    "    "
   ]
  },
  {
   "cell_type": "markdown",
   "metadata": {},
   "source": [
    "***STEP 2***\n",
    "-----------"
   ]
  },
  {
   "cell_type": "code",
   "execution_count": 6,
   "metadata": {},
   "outputs": [
    {
     "name": "stderr",
     "output_type": "stream",
     "text": [
      "[*********************100%%**********************]  3 of 3 completed\n"
     ]
    },
    {
     "data": {
      "image/png": "[encoded data removed]",
      "text/plain": [
       "<Figure size 432x288 with 1 Axes>"
      ]
     },
     "metadata": {
      "needs_background": "light"
     },
     "output_type": "display_data"
    }
   ],
   "source": [
    "Param_VaR = Parametric_VaR(stocks_list, start_date, end_date, weights, confidence)"
   ]
  },
  {
   "cell_type": "markdown",
   "metadata": {},
   "source": [
    "***STEP 3***\n",
    "--------"
   ]
  },
  {
   "cell_type": "code",
   "execution_count": 7,
   "metadata": {},
   "outputs": [
    {
     "name": "stdout",
     "output_type": "stream",
     "text": [
      "Parametric 99% VaR is: -0.0347\n"
     ]
    }
   ],
   "source": [
    "print(\"Parametric {}% VaR is: {:.4f}\".format(confidence, Param_VaR))"
   ]
  },
  {
   "cell_type": "code",
   "execution_count": 8,
   "metadata": {},
   "outputs": [
    {
     "name": "stdout",
     "output_type": "stream",
     "text": [
      "Parametric 99% VaR for an investment of 1 million in the portfolio is: -34700.5881\n"
     ]
    }
   ],
   "source": [
    "print(\"Parametric {}% VaR for an investment of 1 million in the portfolio is: {:.4f}\".format(confidence, Param_VaR*1_000_000))"
   ]
  },
  {
   "cell_type": "code",
   "execution_count": null,
   "metadata": {},
   "outputs": [],
   "source": []
  }
 ],
 "metadata": {
  "kernelspec": {
   "display_name": "Python 3 (ipykernel)",
   "language": "python",
   "name": "python3"
  },
  "language_info": {
   "codemirror_mode": {
    "name": "ipython",
    "version": 3
   },
   "file_extension": ".py",
   "mimetype": "text/x-python",
   "name": "python",
   "nbconvert_exporter": "python",
   "pygments_lexer": "ipython3",
   "version": "3.9.7"
  }
 },
 "nbformat": 4,
 "nbformat_minor": 4
}
