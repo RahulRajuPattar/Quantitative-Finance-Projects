{
 "cells": [
  {
   "cell_type": "markdown",
   "metadata": {},
   "source": [
    "***Assignment 2***\n",
    "-----\n",
    "\n",
    "***Submitted by Rahul Raju Pattar***\n",
    "\n",
    "*Use data from Assignment-1 and write a function for calculating VaR using\n",
    "Historical Simulation.*\n",
    "\n",
    "\n",
    "**Discussion:**\n",
    "\n",
    "Historical VaR is a better and simple methodology to use if one cannot determine the distribution of the asset return series. The method is only as strong as the number of data points available to measure and collecting this data back in time may prove cumbersome or even impossible. In theory this method would be better than parametric VaR if one had enough data to fully represent all of the crisis events and changing business cycles that occurred.\n",
    "\n",
    "**The main assumptions in calculating historical VaR are**:\\\n",
    "\n",
    "**1.** The past will exactly replicate the future.\\\n",
    "**2.** All the past data has been fully incorporated in the risk calculation without the forced assumption of a normal distribution and that no variance-covariance matrix is needed to calculate the portfolio standard deviation. \n",
    "\n",
    "**In the following, the main procedure for the calculating VaR using historical simulations of the portfolio consisting of the given stocks is outlined**:\n",
    "\n",
    "**Step 1.** Firslty, download the stocks historical data from Yahoo finance. We rank all of the past historical returns in terms of lowest to highest and compute with a predetermined confidence rate what your lowest return historically has been.  \\\n",
    "**Step 2.** We determine our risk position with a degree of confidence (99%) from the distribution of the returns.\n"
   ]
  },
  {
   "cell_type": "code",
   "execution_count": 1,
   "metadata": {},
   "outputs": [],
   "source": [
    "import yfinance as yf\n",
    "import numpy as np\n",
    "import pandas as pd\n",
    "import matplotlib.pyplot as plt\n",
    "import datetime as dt"
   ]
  },
  {
   "cell_type": "markdown",
   "metadata": {},
   "source": [
    "***STEP 1***\n",
    "--------"
   ]
  },
  {
   "cell_type": "code",
   "execution_count": 2,
   "metadata": {},
   "outputs": [],
   "source": [
    "end_date        = dt.datetime(2019,10,1)\n",
    "time_difference = dt.timedelta(days = 500)\n",
    "start_date      = end_date - time_difference\n",
    "#print(start_date)"
   ]
  },
  {
   "cell_type": "code",
   "execution_count": 3,
   "metadata": {},
   "outputs": [],
   "source": [
    "stocks_list = ['DLF.NS','NTPC.NS','HDFCBANK.NS']\n",
    "weights = [0.4,0.2,0.4]"
   ]
  },
  {
   "cell_type": "code",
   "execution_count": 4,
   "metadata": {},
   "outputs": [],
   "source": [
    "confidence = 99"
   ]
  },
  {
   "cell_type": "code",
   "execution_count": 5,
   "metadata": {},
   "outputs": [],
   "source": [
    "def Historical_Var(stocks_list,start_date, end_date, weights, confidence):\n",
    "    \n",
    "    #Download the Stock prices from yfinance and remove the missing rows\n",
    "    full_data = yf.download(stocks_list, start = start_date, end = end_date)\n",
    "    data = full_data.copy(deep=True)\n",
    "    data = data['Adj Close'].dropna()\n",
    "    \n",
    "    #Calculate the daily returns for each of stocks\n",
    "    returns = np.log(data).diff()\n",
    "    returns = returns[stocks_list]\n",
    "    returns = returns.dropna()\n",
    "    \n",
    "    #Calculate the daily returns for the portfolio\n",
    "    Portfolio_Returns = np.sum(weights*returns, axis = 1)\n",
    "    Portfolio_Returns.name = 'Portfolio_Returns'\n",
    "    df = Portfolio_Returns.to_frame()\n",
    "    df = df.sort_values(by='Portfolio_Returns')\n",
    "    \n",
    "    #Calculate the Histrorical VaR and plot the histogram\n",
    "    Hist_Var = df['Portfolio_Returns'].quantile(0.01)\n",
    "    plt.hist(df['Portfolio_Returns']*1_000_000)\n",
    "    plt.xlabel('Portfolio Returns')\n",
    "    plt.ylabel('Frequency')\n",
    "    \n",
    "    return Hist_Var\n",
    "    "
   ]
  },
  {
   "cell_type": "code",
   "execution_count": 6,
   "metadata": {},
   "outputs": [
    {
     "name": "stderr",
     "output_type": "stream",
     "text": [
      "[*********************100%%**********************]  3 of 3 completed\n"
     ]
    },
    {
     "data": {
      "image/png": "[encoded data removed]",
      "text/plain": [
       "<Figure size 432x288 with 1 Axes>"
      ]
     },
     "metadata": {
      "needs_background": "light"
     },
     "output_type": "display_data"
    }
   ],
   "source": [
    "Hist_Var = Historical_Var(stocks_list,start_date, end_date, weights, confidence)"
   ]
  },
  {
   "cell_type": "markdown",
   "metadata": {},
   "source": [
    "***STEP 2***\n",
    "-----------"
   ]
  },
  {
   "cell_type": "code",
   "execution_count": 7,
   "metadata": {},
   "outputs": [
    {
     "name": "stdout",
     "output_type": "stream",
     "text": [
      "The 1-day 99% historical VaR is: -0.0388\n",
      "The 1-day 99% historical VaR for an investment of 1 million in the portfolio is: -38773.4886\n"
     ]
    }
   ],
   "source": [
    "print('The 1-day {}% historical VaR is: {:.4f}'.format(confidence, Hist_Var))\n",
    "print(\"The 1-day {}% historical VaR for an investment of 1 million in the portfolio is: {:.4f}\".format(confidence, Hist_Var*1_000_000))\n"
   ]
  },
  {
   "cell_type": "code",
   "execution_count": null,
   "metadata": {},
   "outputs": [],
   "source": []
  }
 ],
 "metadata": {
  "kernelspec": {
   "display_name": "Python 3 (ipykernel)",
   "language": "python",
   "name": "python3"
  },
  "language_info": {
   "codemirror_mode": {
    "name": "ipython",
    "version": 3
   },
   "file_extension": ".py",
   "mimetype": "text/x-python",
   "name": "python",
   "nbconvert_exporter": "python",
   "pygments_lexer": "ipython3",
   "version": "3.9.7"
  }
 },
 "nbformat": 4,
 "nbformat_minor": 4
}
