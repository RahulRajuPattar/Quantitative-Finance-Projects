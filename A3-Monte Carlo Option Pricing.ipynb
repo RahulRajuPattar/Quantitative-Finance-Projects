{
 "cells": [
  {
   "cell_type": "markdown",
   "metadata": {},
   "source": [
    "\n",
    "***Assignment 3***\n",
    "---\n",
    "\n",
    "***Submitted by Rahul Raju Pattar***\n",
    "\n",
    "*Write a function for calculating the value of a European option on Nifty using Monte Carlo Simulation for an expiry after a month. Compare it with the current market price and tell your decision, if it shall be bought or sold.*\n",
    "\n",
    "\n",
    "\n",
    "**Discussion:**\n",
    "\n",
    "The main assumptions in calculating the value of a European Option on Nifty using Monte Carlo Simulation for an expiry after a month are:\n",
    "\n",
    "**1.** Asset returns are normally distributed.\\\n",
    "**2.** Asset returns are assumed to be serially independent in that no prior return should influence the current return.\n",
    "\n",
    "In the following, the main procedure for the calculating parametric VaR of the portfolio consisting of the given stocks is outlined:\n",
    "\n",
    "**Step 1.** Fetch the real time data for: (1) Nifty price (2) Volatility (3) Risk-free rate\\\n",
    "**Step 2.** Simulate the paths for European option prices using Monte-Carlo method and find the option prices.\\\n",
    "**Step 3.** Compare the simulated prices with the market prices to decide whether to buy or sell.\n"
   ]
  },
  {
   "cell_type": "code",
   "execution_count": 8,
   "metadata": {},
   "outputs": [],
   "source": [
    "import yfinance as yf\n",
    "import numpy as np\n",
    "import pandas as pd\n",
    "import matplotlib.pyplot as plt\n",
    "import datetime as dt\n",
    "import scipy.stats as stats\n",
    "from datetime import datetime, timedelta"
   ]
  },
  {
   "cell_type": "code",
   "execution_count": 2,
   "metadata": {},
   "outputs": [],
   "source": [
    "#Market prices for European call and put options\n",
    "\n",
    "# Market Price for call option\n",
    "market_price_call = 284.00\n",
    "\n",
    "# Market Price for put option\n",
    "market_price_put = 589.95"
   ]
  },
  {
   "cell_type": "markdown",
   "metadata": {
    "tags": []
   },
   "source": [
    "***STEP 1***\n",
    "------\n"
   ]
  },
  {
   "cell_type": "code",
   "execution_count": 3,
   "metadata": {},
   "outputs": [],
   "source": [
    "#Function to fetch real time data for nifty price, volatility and risk free rate:\n",
    "\n",
    "def fetch_real_time_data():\n",
    "    \n",
    "    # Fetch current Nifty price\n",
    "    nifty = yf.Ticker(\"^NSEI\")\n",
    "    nifty_price = nifty.history(period=\"1d\")['Close'].iloc[-1].round(4)\n",
    "    \n",
    "    # Fetch historical data to estimate volatility\n",
    "    end_date = datetime.now()\n",
    "    start_date = end_date - timedelta(days=365)\n",
    "    historical_data = nifty.history(start=start_date, end=end_date)\n",
    "    \n",
    "    #Compute historical daily returns\n",
    "    historical_returns = np.log(historical_data['Close']).diff().dropna()\n",
    "    \n",
    "    #Compute annualized volatility from the historical daily returns\n",
    "    volatility = (historical_returns.std() * np.sqrt(252)).round(4)  # Annualized volatility\n",
    "\n",
    "    # Risk-free rate taken from RBI website's 10-Year G-Sec Par Yield (FBIL)\n",
    "    # Source: 'https://www.rbi.org.in/Scripts/BS_NSDPDisplay.aspx?param=4'\n",
    "    risk_free_rate = 0.0701\n",
    "\n",
    "    return nifty_price, volatility, risk_free_rate"
   ]
  },
  {
   "cell_type": "code",
   "execution_count": 4,
   "metadata": {},
   "outputs": [],
   "source": [
    "'''\n",
    "  Parameters:\n",
    "  \n",
    "  S0             : initial stock price\n",
    "  sigma          : annulaized volatility\n",
    "  risk_free_rate : risk free rate\n",
    "  K              : Strike Price\n",
    "  T              : Time to expiry (1 month)\n",
    "  N              : Number of simulation paths for Monte Carlo simulation\n",
    "  \n",
    "'''\n",
    "S0, sigma, risk_free_rate = list(fetch_real_time_data())       # Fetch real-time data\n",
    "K = 24600                                                \n",
    "T = 1/12                                                 \n",
    "N = 10_000                                                "
   ]
  },
  {
   "cell_type": "markdown",
   "metadata": {},
   "source": [
    "***STEP 2***\n",
    "------"
   ]
  },
  {
   "cell_type": "code",
   "execution_count": 5,
   "metadata": {},
   "outputs": [],
   "source": [
    "# Function to simulate European option prices using Monte-Carlo method\n",
    "\n",
    "def monte_carlo_european_option(S0, K, T, r, sigma, N = 10_000):\n",
    "    \n",
    "    # Generate N random paths for the asset price\n",
    "    Z = np.random.standard_normal(N)\n",
    "    ST = S0 * np.exp((r - 0.5 * sigma**2) * T + sigma * np.sqrt(T) * Z)\n",
    "    \n",
    "    # Calculate the payoff at expiry\n",
    "    call_payoff = np.maximum(ST - K, 0)\n",
    "    put_payoff = np.maximum(K-ST,0)\n",
    "    \n",
    "    # Discount the average payoff back to present value\n",
    "    call_price = (np.exp(-r * T) * np.mean(call_payoff)).round(4)\n",
    "    put_price = (np.exp(-r * T) * np.mean(put_payoff)).round(4)\n",
    "    \n",
    "    return call_price, put_price"
   ]
  },
  {
   "cell_type": "code",
   "execution_count": 6,
   "metadata": {},
   "outputs": [
    {
     "name": "stdout",
     "output_type": "stream",
     "text": [
      "\n",
      "Simulated Call Option Price: 175.8149\n",
      "Market Price for Call Option: 284.0\n",
      "\n",
      "Simulated Put Option Price: 633.7144\n",
      "Market Price for Put Option: 589.95\n",
      "\n"
     ]
    }
   ],
   "source": [
    "# Calculate the option price using Monte Carlo simulation\n",
    "simulated_call_price, simulated_put_price = monte_carlo_european_option(S0, K, T, risk_free_rate, sigma, N)\n",
    "\n",
    "print(f\"\\nSimulated Call Option Price: {simulated_call_price}\")\n",
    "print(f\"Market Price for Call Option: {market_price_call}\\n\")\n",
    "\n",
    "print(f\"Simulated Put Option Price: {simulated_put_price}\")\n",
    "print(f\"Market Price for Put Option: {market_price_put}\\n\")"
   ]
  },
  {
   "cell_type": "markdown",
   "metadata": {},
   "source": [
    "***STEP 3***\n",
    "-----------"
   ]
  },
  {
   "cell_type": "code",
   "execution_count": 7,
   "metadata": {},
   "outputs": [
    {
     "name": "stdout",
     "output_type": "stream",
     "text": [
      "Decision for CALL Option : Sell the CALL option as it is overvalued.\n",
      "Decision for PUT Option : Buy the PUT option as it is undervalued.\n"
     ]
    }
   ],
   "source": [
    "# Decision making for CALL OPTION\n",
    "if simulated_call_price > market_price_call:\n",
    "    decision_call = \"Buy the CALL option as it is undervalued.\"\n",
    "else:\n",
    "    decision_call = \"Sell the CALL option as it is overvalued.\"\n",
    "    \n",
    "# Decision making for PUT OPTION\n",
    "if simulated_put_price > market_price_put:\n",
    "    decision_put = \"Buy the PUT option as it is undervalued.\"\n",
    "else:\n",
    "    decision_put = \"Sell the PUT option as it is overvalued.\"\n",
    "\n",
    "print(f\"Decision for CALL Option : {decision_call}\")\n",
    "print(f\"Decision for PUT Option : {decision_put}\")"
   ]
  },
  {
   "cell_type": "code",
   "execution_count": null,
   "metadata": {},
   "outputs": [],
   "source": []
  }
 ],
 "metadata": {
  "kernelspec": {
   "display_name": "Python 3 (ipykernel)",
   "language": "python",
   "name": "python3"
  },
  "language_info": {
   "codemirror_mode": {
    "name": "ipython",
    "version": 3
   },
   "file_extension": ".py",
   "mimetype": "text/x-python",
   "name": "python",
   "nbconvert_exporter": "python",
   "pygments_lexer": "ipython3",
   "version": "3.9.7"
  }
 },
 "nbformat": 4,
 "nbformat_minor": 4
}
